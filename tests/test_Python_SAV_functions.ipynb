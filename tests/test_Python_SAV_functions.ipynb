{
 "cells": [
  {
   "cell_type": "markdown",
   "metadata": {},
   "source": [
    "Connected to CHsolvers (Python 3.9.20)"
   ]
  },
  {
   "cell_type": "code",
   "execution_count": null,
   "id": "0e58c505-02d0-4be4-a096-c9465c382993",
   "metadata": {},
   "outputs": [],
   "source": [
    "import numpy as np\n",
    "\n",
    "# Auxiliary function to create a meshgrid similar to MATLAB's meshgrid\n",
    "\n",
    "\n",
    "def meshgrid(x, y):\n",
    "    x = np.asarray(x).reshape(-1, 1)  # column vector\n",
    "    y = np.asarray(y).reshape(1, -1)  # row vector\n",
    "    X = np.repeat(x, y.shape[1], axis=1)\n",
    "    Y = np.repeat(y, x.shape[0], axis=0)\n",
    "    return X, Y\n",
    "\n",
    "\n",
    "def compute_kx(nx, Lx):\n",
    "    k = np.concatenate((\n",
    "        np.arange(0, nx // 2 + 1),\n",
    "        np.arange(-nx // 2 + 1, 0)\n",
    "    ))\n",
    "    kx = 1j * k * (2 * np.pi / Lx)\n",
    "    return kx\n",
    "\n",
    "\n",
    "def ext(x):\n",
    "\n",
    "    [nx, ny] = x.shape\n",
    "    x_ext = np.zeros((2 * nx, 2 * ny))\n",
    "\n",
    "    # Original block\n",
    "    x_ext[0:nx, 0:ny] = x\n",
    "\n",
    "    # Flip horizontally\n",
    "    x_ext[0:nx, ny:2*ny] = x[:, ::-1]\n",
    "\n",
    "    # Flip vertically\n",
    "    x_ext[nx:2*nx, 0:ny] = x[::-1, :]\n",
    "\n",
    "    # Flip both\n",
    "    x_ext[nx:2*nx, ny:2*ny] = x[::-1, ::-1]\n",
    "    return x_ext\n",
    "\n",
    "\n",
    "def f(phi):\n",
    "    # f = @(x) 0.25*(x.^2-1).^2\n",
    "    fphi = (phi ** 2 - 1) ** 2 / 4\n",
    "    return fphi\n",
    "\n",
    "\n",
    "def r0_fun(phi0, hx, hy, C0):\n",
    "    fphi = f(phi0)\n",
    "    r0 = np.sqrt(hx * hy * np.sum(fphi) + C0)\n",
    "    return r0\n",
    "\n",
    "\n",
    "def extback(x_ext):\n",
    "    # Shrinks from 2*nx x 2*ny back to nx x ny (upper-left block)\n",
    "    [nx_ext, ny_ext] = (x_ext).shape\n",
    "    nx = int(nx_ext / 2)\n",
    "    ny = int(ny_ext / 2)\n",
    "    x_back = x_ext[0:nx, 0:ny]\n",
    "\n",
    "    return x_back\n",
    "\n",
    "\n",
    "def df(phi, gamma0):\n",
    "    return phi ** 3 - (1 + gamma0) * phi\n",
    "\n",
    "\n",
    "def Lap_SAV(phi, k2):\n",
    "    phi_hat = fft_filtered(phi)\n",
    "    result = np.real(np.fft.ifft(k2 * phi_hat))\n",
    "    return result\n",
    "\n",
    "\n",
    "def A_inv_CN(phi, dt, k2, k4, gamma0, epsilon2):\n",
    "    denom = 1 + (dt / 2) * epsilon2 * k4 - (dt / 2) * gamma0 * k2\n",
    "    return np.real(np.fft.ifft(fft_filtered(phi) / denom))\n",
    "\n",
    "\n",
    "def fft_filtered(x):  # removed real(), good\n",
    "    return (np.fft.fft(x))\n",
    "\n",
    "\n",
    "def b_fun(phi, hx, hy, C0, gamma0):\n",
    "    e1 = fft_filtered(f(phi))\n",
    "    return df(phi, gamma0) / np.sqrt(e1[1, 1] * hx * hy + C0)\n",
    "\n",
    "\n",
    "def g_fun_CN(phi0, r0, b, dt, hx, hy, epsilon2, gamma0, Beta, C0, k2):\n",
    "    Lap_phi0 = Lap_SAV(phi0, k2)\n",
    "    Lap_Lap_phi0 = Lap_SAV(Lap_phi0, k2)\n",
    "\n",
    "    bphi0 = fft_filtered(b * phi0)\n",
    "    bphi0 = hx * hy * bphi0[1, 1]\n",
    "\n",
    "    e1 = fft_filtered(f(phi0))\n",
    "\n",
    "    g = phi0 - (dt / 2) * epsilon2 * Lap_Lap_phi0 + (dt / 2) * gamma0 * Lap_phi0 + dt * Lap_SAV(b, k2) * \\\n",
    "        (r0 - (1 / 4) * bphi0 - (1 / 2) * Beta * dt *\n",
    "         r0 * (r0 - np.sqrt(e1[1, 1] * hx * hy + C0)))\n",
    "\n",
    "    return g\n",
    "\n",
    "\n",
    "def r_fun(phi, phi0, r0, b, hx, hy, C0, Beta, dt):\n",
    "    bphi0 = fft_filtered(b * phi0)\n",
    "    bphi0 = hx * hy * bphi0[1, 1]\n",
    "\n",
    "    bphi = fft_filtered(b * phi)\n",
    "    bphi = hx * hy * bphi[1, 1]\n",
    "\n",
    "    e1 = fft_filtered(f(phi0))\n",
    "\n",
    "    r = r0 + (1 / 2) * (bphi - bphi0) - Beta * dt * \\\n",
    "        r0 * (r0 - np.sqrt(e1[1, 1] * hx * hy + C0))\n",
    "\n",
    "    return r"
   ]
  },
  {
   "cell_type": "code",
   "execution_count": null,
   "metadata": {},
   "outputs": [],
   "source": [
    "x = np.array([[1,2],[3,4]])\n",
    "xext = ext(x)"
   ]
  },
  {
   "cell_type": "code",
   "execution_count": null,
   "metadata": {},
   "outputs": [
    {
     "data": {
      "text/plain": [
       "array([[1., 2., 2., 1.],\n",
       "       [3., 4., 4., 3.],\n",
       "       [3., 4., 4., 3.],\n",
       "       [1., 2., 2., 1.]])"
      ]
     },
     "execution_count": 5,
     "metadata": {},
     "output_type": "execute_result"
    }
   ],
   "source": [
    "xext"
   ]
  },
  {
   "cell_type": "code",
   "execution_count": null,
   "metadata": {},
   "outputs": [
    {
     "data": {
      "text/plain": [
       "array([[ 0.  ,  2.25],\n",
       "       [16.  , 56.25]])"
      ]
     },
     "execution_count": 6,
     "metadata": {},
     "output_type": "execute_result"
    }
   ],
   "source": [
    "f(x)"
   ]
  },
  {
   "cell_type": "code",
   "execution_count": null,
   "metadata": {},
   "outputs": [
    {
     "data": {
      "text/plain": [
       "array([[ 0.  ,  2.25,  2.25,  0.  ],\n",
       "       [16.  , 56.25, 56.25, 16.  ],\n",
       "       [16.  , 56.25, 56.25, 16.  ],\n",
       "       [ 0.  ,  2.25,  2.25,  0.  ]])"
      ]
     },
     "execution_count": 7,
     "metadata": {},
     "output_type": "execute_result"
    }
   ],
   "source": [
    "f(xext)"
   ]
  },
  {
   "cell_type": "code",
   "execution_count": null,
   "metadata": {},
   "outputs": [],
   "source": [
    "[nx, ny] = x.shape"
   ]
  },
  {
   "cell_type": "code",
   "execution_count": null,
   "metadata": {},
   "outputs": [],
   "source": [
    "domain=[1, 0, 1, 0]"
   ]
  },
  {
   "cell_type": "code",
   "execution_count": null,
   "metadata": {},
   "outputs": [],
   "source": [
    "boundary = 'neumann'\n",
    "xright, xleft, yright, yleft = domain\n",
    "Lx = xright - xleft\n",
    "Ly = yright - yleft\n",
    "\n",
    "# % Decide on the solver's mesh spacing for NEUMANN vs PERIODIC\n",
    "# %  - For Neumann: we will mirror the domain, so pass 2*hx and 2*hy into sav_solver.\n",
    "# %  - For Periodic: keep as-is.\n",
    "if boundary == \"neumann\":\n",
    "    Lx = 2 * Lx\n",
    "    Ly = 2 * Ly\n",
    "    nx = 2 * nx\n",
    "    ny = 2 * ny\n",
    "hx = Lx / nx\n",
    "hy = Ly / ny\n",
    "h2 = hx * hy  # Define mesh size"
   ]
  },
  {
   "cell_type": "code",
   "execution_count": null,
   "metadata": {},
   "outputs": [],
   "source": [
    "epsilon2=np.nan"
   ]
  },
  {
   "cell_type": "code",
   "execution_count": null,
   "metadata": {},
   "outputs": [],
   "source": [
    "m = 4\n",
    "\n",
    "if np.isnan(epsilon2):\n",
    "    # Define ϵ^2 if not prespecified\n",
    "    epsilon2 = h2 * m ** 2 / (2 * np.sqrt(2) * np.arctanh(0.9)) ** 2\n",
    "else:\n",
    "    # Else overwrite m\n",
    "    m = np.sqrt((epsilon2 * (2 * np.sqrt(2) * np.arctanh(0.9)) ** 2) / h2)\n"
   ]
  },
  {
   "cell_type": "code",
   "execution_count": null,
   "metadata": {},
   "outputs": [
    {
     "data": {
      "text/plain": [
       "np.float64(0.23068793362547763)"
      ]
     },
     "execution_count": 15,
     "metadata": {},
     "output_type": "execute_result"
    }
   ],
   "source": [
    "epsilon2"
   ]
  },
  {
   "cell_type": "code",
   "execution_count": null,
   "metadata": {},
   "outputs": [
    {
     "data": {
      "text/plain": [
       "0.25"
      ]
     },
     "execution_count": 16,
     "metadata": {},
     "output_type": "execute_result"
    }
   ],
   "source": [
    "h2"
   ]
  },
  {
   "cell_type": "code",
   "execution_count": null,
   "metadata": {},
   "outputs": [],
   "source": [
    "\n",
    "    kx = compute_kx(nx, Lx)\n",
    "    ky = compute_kx(ny, Ly)\n",
    "\n",
    "    kxx = kx**2\n",
    "    kyy = ky**2\n",
    "    kxx_mat, kyy_mat = meshgrid(kxx, kyy)\n",
    "\n",
    "    k2 = kxx_mat + kyy_mat\n",
    "    k4 = k2**2"
   ]
  },
  {
   "cell_type": "code",
   "execution_count": null,
   "metadata": {},
   "outputs": [
    {
     "data": {
      "text/plain": [
       "array([[   0.        +0.j,   97.40909103-0.j, 1558.54545654-0.j,\n",
       "          97.40909103-0.j],\n",
       "       [  97.40909103-0.j,  389.63636414-0.j, 2435.22727585-0.j,\n",
       "         389.63636414-0.j],\n",
       "       [1558.54545654-0.j, 2435.22727585-0.j, 6234.18182618-0.j,\n",
       "        2435.22727585-0.j],\n",
       "       [  97.40909103-0.j,  389.63636414-0.j, 2435.22727585-0.j,\n",
       "         389.63636414+0.j]])"
      ]
     },
     "execution_count": 18,
     "metadata": {},
     "output_type": "execute_result"
    }
   ],
   "source": [
    "k4"
   ]
  },
  {
   "cell_type": "code",
   "execution_count": null,
   "metadata": {},
   "outputs": [],
   "source": [
    "#k4 matches julia"
   ]
  },
  {
   "cell_type": "code",
   "execution_count": null,
   "metadata": {},
   "outputs": [],
   "source": [
    "C0 = 0\n",
    "Beta = 0\n",
    "gamma0 = 0"
   ]
  },
  {
   "cell_type": "code",
   "execution_count": null,
   "metadata": {},
   "outputs": [
    {
     "data": {
      "text/plain": [
       "np.float64(8.631338250816034)"
      ]
     },
     "execution_count": 21,
     "metadata": {},
     "output_type": "execute_result"
    }
   ],
   "source": [
    "r0_fun(xext,hx,hy,C0)"
   ]
  },
  {
   "cell_type": "code",
   "execution_count": null,
   "metadata": {},
   "outputs": [
    {
     "data": {
      "text/plain": [
       "array([[ 0.,  6.,  6.,  0.],\n",
       "       [24., 60., 60., 24.],\n",
       "       [24., 60., 60., 24.],\n",
       "       [ 0.,  6.,  6.,  0.]])"
      ]
     },
     "execution_count": 22,
     "metadata": {},
     "output_type": "execute_result"
    }
   ],
   "source": [
    "df(xext, gamma0)"
   ]
  },
  {
   "cell_type": "code",
   "execution_count": null,
   "metadata": {},
   "outputs": [
    {
     "data": {
      "text/plain": [
       "array([[   4.9348022 ,   -4.9348022 ,   -4.9348022 ,    4.9348022 ],\n",
       "       [ -24.674011  ,  -44.4132198 ,  -44.4132198 ,  -24.674011  ],\n",
       "       [-113.50045061, -162.84847262, -162.84847262, -113.50045061],\n",
       "       [  -4.9348022 ,  -24.674011  ,  -24.674011  ,   -4.9348022 ]])"
      ]
     },
     "execution_count": 23,
     "metadata": {},
     "output_type": "execute_result"
    }
   ],
   "source": [
    "Lap_SAV(xext, k2)"
   ]
  },
  {
   "cell_type": "code",
   "execution_count": null,
   "metadata": {},
   "outputs": [
    {
     "data": {
      "text/plain": [
       "array([[  0.        +0.j,  -9.8696044 +0.j, -39.4784176 +0.j,\n",
       "         -9.8696044 +0.j],\n",
       "       [ -9.8696044 +0.j, -19.7392088 +0.j, -49.34802201+0.j,\n",
       "        -19.7392088 +0.j],\n",
       "       [-39.4784176 +0.j, -49.34802201+0.j, -78.95683521+0.j,\n",
       "        -49.34802201+0.j],\n",
       "       [ -9.8696044 +0.j, -19.7392088 +0.j, -49.34802201+0.j,\n",
       "        -19.7392088 -0.j]])"
      ]
     },
     "execution_count": 24,
     "metadata": {},
     "output_type": "execute_result"
    }
   ],
   "source": [
    "k2"
   ]
  },
  {
   "cell_type": "code",
   "execution_count": null,
   "metadata": {},
   "outputs": [
    {
     "data": {
      "text/plain": [
       "array([[ 6.+0.j, -1.-1.j,  0.+0.j, -1.+1.j],\n",
       "       [14.+0.j, -1.-1.j,  0.+0.j, -1.+1.j],\n",
       "       [14.+0.j, -1.-1.j,  0.+0.j, -1.+1.j],\n",
       "       [ 6.+0.j, -1.-1.j,  0.+0.j, -1.+1.j]])"
      ]
     },
     "execution_count": 25,
     "metadata": {},
     "output_type": "execute_result"
    }
   ],
   "source": [
    "fft_filtered(xext)\n"
   ]
  },
  {
   "cell_type": "code",
   "execution_count": null,
   "metadata": {},
   "outputs": [
    {
     "data": {
      "text/plain": [
       "array([[ 8.+0.j, 12.+0.j, 12.+0.j,  8.+0.j],\n",
       "       [-2.-2.j, -2.-2.j, -2.-2.j, -2.-2.j],\n",
       "       [ 0.+0.j,  0.+0.j,  0.+0.j,  0.+0.j],\n",
       "       [-2.+2.j, -2.+2.j, -2.+2.j, -2.+2.j]])"
      ]
     },
     "execution_count": 26,
     "metadata": {},
     "output_type": "execute_result"
    }
   ],
   "source": [
    "np.fft.fft(xext, axis = 0)"
   ]
  },
  {
   "cell_type": "code",
   "execution_count": null,
   "metadata": {},
   "outputs": [
    {
     "data": {
      "text/plain": [
       "array([[ 2. +0.j ,  3. +0.j ,  3. +0.j ,  2. +0.j ],\n",
       "       [-0.5-0.5j, -0.5-0.5j, -0.5-0.5j, -0.5-0.5j],\n",
       "       [ 0. +0.j ,  0. +0.j ,  0. +0.j ,  0. +0.j ],\n",
       "       [-0.5+0.5j, -0.5+0.5j, -0.5+0.5j, -0.5+0.5j]])"
      ]
     },
     "execution_count": 27,
     "metadata": {},
     "output_type": "execute_result"
    }
   ],
   "source": [
    "np.fft.fft(xext, axis = 0, norm = \"forward\")"
   ]
  },
  {
   "cell_type": "code",
   "execution_count": null,
   "metadata": {},
   "outputs": [
    {
     "data": {
      "text/plain": [
       "array([[40.+0.j, -4.-4.j,  0.+0.j, -4.+4.j],\n",
       "       [-8.-8.j,  0.+0.j,  0.+0.j,  0.+0.j],\n",
       "       [ 0.+0.j,  0.+0.j,  0.+0.j,  0.+0.j],\n",
       "       [-8.+8.j,  0.+0.j,  0.+0.j,  0.+0.j]])"
      ]
     },
     "execution_count": 28,
     "metadata": {},
     "output_type": "execute_result"
    }
   ],
   "source": [
    "np.fft.fft2(xext)"
   ]
  },
  {
   "cell_type": "code",
   "execution_count": null,
   "id": "4c57b156-cc09-47dc-8aec-2cb0e1de39d7",
   "metadata": {},
   "outputs": [],
   "source": [
    "import numpy as np\n",
    "\n",
    "# Auxiliary function to create a meshgrid similar to MATLAB's meshgrid\n",
    "\n",
    "\n",
    "def meshgrid(x, y):  # good\n",
    "    x = np.asarray(x).reshape(-1, 1)  # column vector\n",
    "    y = np.asarray(y).reshape(1, -1)  # row vector\n",
    "    X = np.repeat(x, y.shape[1], axis=1)\n",
    "    Y = np.repeat(y, x.shape[0], axis=0)\n",
    "    return X, Y\n",
    "\n",
    "\n",
    "def compute_kx(nx, Lx):  # good\n",
    "    k = np.concatenate((\n",
    "        np.arange(0, nx // 2 + 1),\n",
    "        np.arange(-nx // 2 + 1, 0)\n",
    "    ))\n",
    "    kx = 1j * k * (2 * np.pi / Lx)\n",
    "    return kx\n",
    "\n",
    "\n",
    "def ext(x):  # good\n",
    "\n",
    "    [nx, ny] = x.shape\n",
    "    x_ext = np.zeros((2 * nx, 2 * ny))\n",
    "\n",
    "    # Original block\n",
    "    x_ext[0:nx, 0:ny] = x\n",
    "\n",
    "    # Flip horizontally\n",
    "    x_ext[0:nx, ny:2*ny] = x[:, ::-1]\n",
    "\n",
    "    # Flip vertically\n",
    "    x_ext[nx:2*nx, 0:ny] = x[::-1, :]\n",
    "\n",
    "    # Flip both\n",
    "    x_ext[nx:2*nx, ny:2*ny] = x[::-1, ::-1]\n",
    "    return x_ext\n",
    "\n",
    "\n",
    "def f(phi):  # good\n",
    "    # f = @(x) 0.25*(x.^2-1).^2\n",
    "    fphi = (phi ** 2 - 1) ** 2 / 4\n",
    "    return fphi\n",
    "\n",
    "\n",
    "def r0_fun(phi0, hx, hy, C0):  # good\n",
    "    fphi = f(phi0)\n",
    "    r0 = np.sqrt(hx * hy * np.sum(fphi) + C0)\n",
    "    return r0\n",
    "\n",
    "\n",
    "def extback(x_ext):  # good\n",
    "    # Shrinks from 2*nx x 2*ny back to nx x ny (upper-left block)\n",
    "    [nx_ext, ny_ext] = (x_ext).shape\n",
    "    nx = int(nx_ext / 2)\n",
    "    ny = int(ny_ext / 2)\n",
    "    x_back = x_ext[0:nx, 0:ny]\n",
    "\n",
    "    return x_back\n",
    "\n",
    "\n",
    "def df(phi, gamma0):  # good\n",
    "    return phi ** 3 - (1 + gamma0) * phi\n",
    "\n",
    "\n",
    "def Lap_SAV(phi, k2):\n",
    "    phi_hat = fft_filtered(phi)\n",
    "    result = np.real(np.fft.ifft2(k2 * phi_hat))\n",
    "    return result\n",
    "\n",
    "\n",
    "def A_inv_CN(phi, dt, k2, k4, gamma0, epsilon2):\n",
    "    denom = 1 + (dt / 2) * epsilon2 * k4 - (dt / 2) * gamma0 * k2\n",
    "    return np.real(np.fft.ifft2(fft_filtered(phi) / denom))\n",
    "\n",
    "\n",
    "def fft_filtered(x):  # removed real(), good\n",
    "    return (np.fft.fft2(x))\n",
    "\n",
    "\n",
    "def b_fun(phi, hx, hy, C0, gamma0):\n",
    "    e1 = fft_filtered(f(phi))\n",
    "    return df(phi, gamma0) / np.sqrt(e1[1, 1] * hx * hy + C0)\n",
    "\n",
    "\n",
    "def g_fun_CN(phi0, r0, b, dt, hx, hy, epsilon2, gamma0, Beta, C0, k2):\n",
    "    Lap_phi0 = Lap_SAV(phi0, k2)\n",
    "    Lap_Lap_phi0 = Lap_SAV(Lap_phi0, k2)\n",
    "\n",
    "    bphi0 = fft_filtered(b * phi0)\n",
    "    bphi0 = hx * hy * bphi0[1, 1]\n",
    "\n",
    "    e1 = fft_filtered(f(phi0))\n",
    "\n",
    "    g = phi0 - (dt / 2) * epsilon2 * Lap_Lap_phi0 + (dt / 2) * gamma0 * Lap_phi0 + dt * Lap_SAV(b, k2) * \\\n",
    "        (r0 - (1 / 4) * bphi0 - (1 / 2) * Beta * dt *\n",
    "         r0 * (r0 - np.sqrt(e1[1, 1] * hx * hy + C0)))\n",
    "\n",
    "    return g\n",
    "\n",
    "\n",
    "def r_fun(phi, phi0, r0, b, hx, hy, C0, Beta, dt):\n",
    "    bphi0 = fft_filtered(b * phi0)\n",
    "    bphi0 = hx * hy * bphi0[1, 1]\n",
    "\n",
    "    bphi = fft_filtered(b * phi)\n",
    "    bphi = hx * hy * bphi[1, 1]\n",
    "\n",
    "    e1 = fft_filtered(f(phi0))\n",
    "\n",
    "    r = r0 + (1 / 2) * (bphi - bphi0) - Beta * dt * \\\n",
    "        r0 * (r0 - np.sqrt(e1[1, 1] * hx * hy + C0))\n",
    "\n",
    "    return r"
   ]
  },
  {
   "cell_type": "code",
   "execution_count": null,
   "metadata": {},
   "outputs": [
    {
     "data": {
      "text/plain": [
       "array([[ 14.8044066,   4.9348022,   4.9348022,  14.8044066],\n",
       "       [ -4.9348022, -14.8044066, -14.8044066,  -4.9348022],\n",
       "       [ -4.9348022, -14.8044066, -14.8044066,  -4.9348022],\n",
       "       [ 14.8044066,   4.9348022,   4.9348022,  14.8044066]])"
      ]
     },
     "execution_count": 30,
     "metadata": {},
     "output_type": "execute_result"
    }
   ],
   "source": [
    "Lap_SAV(xext, k2)"
   ]
  },
  {
   "cell_type": "code",
   "execution_count": null,
   "metadata": {},
   "outputs": [
    {
     "data": {
      "text/plain": [
       "array([[1.00016851, 2.00005617, 2.00005617, 1.00016851],\n",
       "       [2.99994383, 3.99983149, 3.99983149, 2.99994383],\n",
       "       [2.99994383, 3.99983149, 3.99983149, 2.99994383],\n",
       "       [1.00016851, 2.00005617, 2.00005617, 1.00016851]])"
      ]
     },
     "execution_count": 31,
     "metadata": {},
     "output_type": "execute_result"
    }
   ],
   "source": [
    "A_inv_CN(xext, 1e-5, k2, k4, gamma0, epsilon2)"
   ]
  },
  {
   "cell_type": "code",
   "execution_count": null,
   "metadata": {},
   "outputs": [
    {
     "data": {
      "text/plain": [
       "array([[0.        +0.j        , 0.97332853-0.97332853j,\n",
       "        0.97332853-0.97332853j, 0.        +0.j        ],\n",
       "       [3.89331411-3.89331411j, 9.73328527-9.73328527j,\n",
       "        9.73328527-9.73328527j, 3.89331411-3.89331411j],\n",
       "       [3.89331411-3.89331411j, 9.73328527-9.73328527j,\n",
       "        9.73328527-9.73328527j, 3.89331411-3.89331411j],\n",
       "       [0.        +0.j        , 0.97332853-0.97332853j,\n",
       "        0.97332853-0.97332853j, 0.        +0.j        ]])"
      ]
     },
     "execution_count": 32,
     "metadata": {},
     "output_type": "execute_result"
    }
   ],
   "source": [
    "b_fun(xext, hx, hy, C0, gamma0)"
   ]
  },
  {
   "cell_type": "code",
   "execution_count": null,
   "metadata": {},
   "outputs": [
    {
     "data": {
      "text/plain": [
       "array([[ 298.  +0.j,  -85. -85.j,    0.  +0.j,  -85. +85.j],\n",
       "       [-140.-140.j,    0. +76.j,    0.  +0.j,   76.  +0.j],\n",
       "       [   0.  +0.j,    0.  +0.j,    0.  +0.j,    0.  +0.j],\n",
       "       [-140.+140.j,   76.  +0.j,    0.  +0.j,    0. -76.j]])"
      ]
     },
     "execution_count": 33,
     "metadata": {},
     "output_type": "execute_result"
    }
   ],
   "source": [
    " e1 = fft_filtered(f(xext))\n",
    " e1"
   ]
  },
  {
   "cell_type": "code",
   "execution_count": null,
   "metadata": {},
   "outputs": [
    {
     "data": {
      "text/plain": [
       "np.complex128(6.164414002968976+6.164414002968977j)"
      ]
     },
     "execution_count": 35,
     "metadata": {},
     "output_type": "execute_result"
    }
   ],
   "source": [
    "np.sqrt(e1[1, 1])"
   ]
  },
  {
   "cell_type": "code",
   "execution_count": null,
   "metadata": {},
   "outputs": [
    {
     "data": {
      "text/plain": [
       "np.complex128(17.26267650163207+0j)"
      ]
     },
     "execution_count": 36,
     "metadata": {},
     "output_type": "execute_result"
    }
   ],
   "source": [
    "np.sqrt(e1[0, 0])"
   ]
  },
  {
   "cell_type": "code",
   "execution_count": null,
   "id": "6585f6b6-a440-4762-b769-6d37291217ec",
   "metadata": {},
   "outputs": [],
   "source": [
    "import numpy as np\n",
    "\n",
    "# Auxiliary function to create a meshgrid similar to MATLAB's meshgrid\n",
    "\n",
    "\n",
    "def meshgrid(x, y):  # good\n",
    "    x = np.asarray(x).reshape(-1, 1)  # column vector\n",
    "    y = np.asarray(y).reshape(1, -1)  # row vector\n",
    "    X = np.repeat(x, y.shape[1], axis=1)\n",
    "    Y = np.repeat(y, x.shape[0], axis=0)\n",
    "    return X, Y\n",
    "\n",
    "\n",
    "def compute_kx(nx, Lx):  # good\n",
    "    k = np.concatenate((\n",
    "        np.arange(0, nx // 2 + 1),\n",
    "        np.arange(-nx // 2 + 1, 0)\n",
    "    ))\n",
    "    kx = 1j * k * (2 * np.pi / Lx)\n",
    "    return kx\n",
    "\n",
    "\n",
    "def ext(x):  # good\n",
    "\n",
    "    [nx, ny] = x.shape\n",
    "    x_ext = np.zeros((2 * nx, 2 * ny))\n",
    "\n",
    "    # Original block\n",
    "    x_ext[0:nx, 0:ny] = x\n",
    "\n",
    "    # Flip horizontally\n",
    "    x_ext[0:nx, ny:2*ny] = x[:, ::-1]\n",
    "\n",
    "    # Flip vertically\n",
    "    x_ext[nx:2*nx, 0:ny] = x[::-1, :]\n",
    "\n",
    "    # Flip both\n",
    "    x_ext[nx:2*nx, ny:2*ny] = x[::-1, ::-1]\n",
    "    return x_ext\n",
    "\n",
    "\n",
    "def f(phi):  # good\n",
    "    # f = @(x) 0.25*(x.^2-1).^2\n",
    "    fphi = (phi ** 2 - 1) ** 2 / 4\n",
    "    return fphi\n",
    "\n",
    "\n",
    "def r0_fun(phi0, hx, hy, C0):  # good\n",
    "    fphi = f(phi0)\n",
    "    r0 = np.sqrt(hx * hy * np.sum(fphi) + C0)\n",
    "    return r0\n",
    "\n",
    "\n",
    "def extback(x_ext):  # good\n",
    "    # Shrinks from 2*nx x 2*ny back to nx x ny (upper-left block)\n",
    "    [nx_ext, ny_ext] = (x_ext).shape\n",
    "    nx = int(nx_ext / 2)\n",
    "    ny = int(ny_ext / 2)\n",
    "    x_back = x_ext[0:nx, 0:ny]\n",
    "\n",
    "    return x_back\n",
    "\n",
    "\n",
    "def df(phi, gamma0):  # good\n",
    "    return phi ** 3 - (1 + gamma0) * phi\n",
    "\n",
    "\n",
    "def Lap_SAV(phi, k2):  # good\n",
    "    phi_hat = fft_filtered(phi)\n",
    "    result = np.real(np.fft.ifft2(k2 * phi_hat))\n",
    "    return result\n",
    "\n",
    "\n",
    "def A_inv_CN(phi, dt, k2, k4, gamma0, epsilon2):  # good\n",
    "    denom = 1 + (dt / 2) * epsilon2 * k4 - (dt / 2) * gamma0 * k2\n",
    "    return np.real(np.fft.ifft2(fft_filtered(phi) / denom))\n",
    "\n",
    "\n",
    "def fft_filtered(x):  # fft2 is equivalent to fft in julia for 2d array, good\n",
    "    return (np.fft.fft2(x))\n",
    "\n",
    "\n",
    "def b_fun(phi, hx, hy, C0, gamma0):\n",
    "    e1 = fft_filtered(f(phi))\n",
    "    return df(phi, gamma0) / np.sqrt(e1[0, 0] * hx * hy + C0)\n",
    "\n",
    "\n",
    "def g_fun_CN(phi0, r0, b, dt, hx, hy, epsilon2, gamma0, Beta, C0, k2):\n",
    "    Lap_phi0 = Lap_SAV(phi0, k2)\n",
    "    Lap_Lap_phi0 = Lap_SAV(Lap_phi0, k2)\n",
    "\n",
    "    bphi0 = fft_filtered(b * phi0)\n",
    "    bphi0 = hx * hy * bphi0[0, 0]\n",
    "\n",
    "    e1 = fft_filtered(f(phi0))\n",
    "\n",
    "    g = phi0 - (dt / 2) * epsilon2 * Lap_Lap_phi0 + (dt / 2) * gamma0 * Lap_phi0 + dt * Lap_SAV(b, k2) * \\\n",
    "        (r0 - (1 / 4) * bphi0 - (1 / 2) * Beta * dt *\n",
    "         r0 * (r0 - np.sqrt(e1[0, 0] * hx * hy + C0)))\n",
    "\n",
    "    return g\n",
    "\n",
    "\n",
    "def r_fun(phi, phi0, r0, b, hx, hy, C0, Beta, dt):\n",
    "    bphi0 = fft_filtered(b * phi0)\n",
    "    bphi0 = hx * hy * bphi0[0, 0]\n",
    "\n",
    "    bphi = fft_filtered(b * phi)\n",
    "    bphi = hx * hy * bphi[0, 0]\n",
    "\n",
    "    e1 = fft_filtered(f(phi0))\n",
    "\n",
    "    r = r0 + (1 / 2) * (bphi - bphi0) - Beta * dt * \\\n",
    "        r0 * (r0 - np.sqrt(e1[0, 0] * hx * hy + C0))\n",
    "\n",
    "    return r"
   ]
  },
  {
   "cell_type": "code",
   "execution_count": null,
   "metadata": {},
   "outputs": [
    {
     "data": {
      "text/plain": [
       "array([[0.        +0.j, 0.69514134+0.j, 0.69514134+0.j, 0.        +0.j],\n",
       "       [2.78056534+0.j, 6.95141336+0.j, 6.95141336+0.j, 2.78056534+0.j],\n",
       "       [2.78056534+0.j, 6.95141336+0.j, 6.95141336+0.j, 2.78056534+0.j],\n",
       "       [0.        +0.j, 0.69514134+0.j, 0.69514134+0.j, 0.        +0.j]])"
      ]
     },
     "execution_count": 38,
     "metadata": {},
     "output_type": "execute_result"
    }
   ],
   "source": [
    "b_fun(xext, hx, hy, C0, gamma0)"
   ]
  },
  {
   "cell_type": "code",
   "execution_count": null,
   "metadata": {},
   "outputs": [
    {
     "data": {
      "text/plain": [
       "array([[1.00003977+0.j, 1.99985086+0.j, 1.99985086+0.j, 1.00003977+0.j],\n",
       "       [2.99989287+0.j, 4.00021649+0.j, 4.00021649+0.j, 2.99989287+0.j],\n",
       "       [2.99989287+0.j, 4.00021649+0.j, 4.00021649+0.j, 2.99989287+0.j],\n",
       "       [1.00003977+0.j, 1.99985086+0.j, 1.99985086+0.j, 1.00003977+0.j]])"
      ]
     },
     "execution_count": 39,
     "metadata": {},
     "output_type": "execute_result"
    }
   ],
   "source": [
    "dt = 1e-5\n",
    "r0 = r0_fun(xext, hx, hy, C0) # Initialize sav state\n",
    "\n",
    "phi0_df   = df(xext,gamma0) #df at phi0\n",
    "Lap_dfphi0 = Lap_SAV(phi0_df, k2)    #Lap of df(phi0)\n",
    "phi_bar = A_inv_CN(xext + dt/2 * Lap_dfphi0, dt, k2, k4, gamma0, epsilon2)\n",
    "b = b_fun(phi_bar,hx,hy,C0,gamma0)\n",
    "\n",
    "g_fun_CN(xext, r0, b, dt, hx, hy, epsilon2, gamma0, Beta, C0, k2)"
   ]
  },
  {
   "cell_type": "code",
   "execution_count": null,
   "metadata": {},
   "outputs": [
    {
     "ename": "NameError",
     "evalue": "name 'g' is not defined",
     "output_type": "error",
     "traceback": [
      "\u001b[0;31m---------------------------------------------------------------------------\u001b[0m",
      "\u001b[0;31mNameError\u001b[0m                                 Traceback (most recent call last)",
      "Cell \u001b[0;32mIn[40], line 2\u001b[0m\n\u001b[1;32m      1\u001b[0m AiLb \u001b[39m=\u001b[39m A_inv_CN(Lap_SAV(b, k2), dt, k2, k4, gamma0, epsilon2)\n\u001b[0;32m----> 2\u001b[0m Aig \u001b[39m=\u001b[39m A_inv_CN(g, dt, k2, k4, gamma0, epsilon2)\n\u001b[1;32m      4\u001b[0m gamma \u001b[39m=\u001b[39m \u001b[39m-\u001b[39mnp\u001b[39m.\u001b[39mreal(np\u001b[39m.\u001b[39mfft\u001b[39m.\u001b[39mfft2(b\u001b[39m*\u001b[39mAiLb))\n\u001b[1;32m      5\u001b[0m gamma \u001b[39m=\u001b[39m gamma[\u001b[39m0\u001b[39m, \u001b[39m0\u001b[39m]\u001b[39m*\u001b[39mhx\u001b[39m*\u001b[39mhy\n",
      "\u001b[0;31mNameError\u001b[0m: name 'g' is not defined"
     ]
    }
   ],
   "source": [
    "AiLb = A_inv_CN(Lap_SAV(b, k2), dt, k2, k4, gamma0, epsilon2)\n",
    "Aig = A_inv_CN(g, dt, k2, k4, gamma0, epsilon2)\n",
    "\n",
    "gamma = -np.real(np.fft.fft2(b*AiLb))\n",
    "gamma = gamma[0, 0]*hx*hy\n",
    "\n",
    "# Step 2\n",
    "bphi = np.real(np.fft.fft2(b*Aig))\n",
    "bphi = bphi[0, 0]*hx*hy/(1+dt/4*gamma)\n",
    "\n",
    "# Step 3\n",
    "phi_new = dt/4*bphi*AiLb + Aig\n",
    "r_fun(phi, xext, r0, b, hx, hy, C0, Beta, dt)"
   ]
  },
  {
   "cell_type": "code",
   "execution_count": null,
   "metadata": {},
   "outputs": [],
   "source": [
    "dt = 1e-5\n",
    "r0 = r0_fun(xext, hx, hy, C0) # Initialize sav state\n",
    "\n",
    "phi0_df   = df(xext,gamma0) #df at phi0\n",
    "Lap_dfphi0 = Lap_SAV(phi0_df, k2)    #Lap of df(phi0)\n",
    "phi_bar = A_inv_CN(xext + dt/2 * Lap_dfphi0, dt, k2, k4, gamma0, epsilon2)\n",
    "b = b_fun(phi_bar,hx,hy,C0,gamma0)\n",
    "\n",
    "g = g_fun_CN(xext, r0, b, dt, hx, hy, epsilon2, gamma0, Beta, C0, k2)"
   ]
  },
  {
   "cell_type": "code",
   "execution_count": null,
   "metadata": {},
   "outputs": [
    {
     "data": {
      "text/plain": [
       "np.complex128(8.61631321203629+0j)"
      ]
     },
     "execution_count": 43,
     "metadata": {},
     "output_type": "execute_result"
    }
   ],
   "source": [
    "AiLb = A_inv_CN(Lap_SAV(b, k2), dt, k2, k4, gamma0, epsilon2)\n",
    "Aig = A_inv_CN(g, dt, k2, k4, gamma0, epsilon2)\n",
    "\n",
    "gamma = -np.real(np.fft.fft2(b*AiLb))\n",
    "gamma = gamma[0, 0]*hx*hy\n",
    "\n",
    "# Step 2\n",
    "bphi = np.real(np.fft.fft2(b*Aig))\n",
    "bphi = bphi[0, 0]*hx*hy/(1+dt/4*gamma)\n",
    "\n",
    "# Step 3\n",
    "phi_new = dt/4*bphi*AiLb + Aig\n",
    "r_fun(phi_new, xext, r0, b, hx, hy, C0, Beta, dt)"
   ]
  }
 ],
 "metadata": {
  "kernelspec": {
   "display_name": "CHsolvers",
   "language": "python",
   "name": "python3"
  },
  "language_info": {
   "codemirror_mode": {
    "name": "ipython",
    "version": 3
   },
   "file_extension": ".py",
   "mimetype": "text/x-python",
   "name": "python",
   "nbconvert_exporter": "python",
   "pygments_lexer": "ipython3",
   "version": "3.9.20"
  }
 },
 "nbformat": 4,
 "nbformat_minor": 2
}
